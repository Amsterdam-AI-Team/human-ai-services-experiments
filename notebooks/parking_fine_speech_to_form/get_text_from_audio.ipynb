{
 "cells": [
  {
   "cell_type": "code",
   "execution_count": null,
   "id": "090e798f",
   "metadata": {},
   "outputs": [],
   "source": [
    "# import ffmpeg\n",
    "# !pip install ffprobe\n",
    "# !pip install pydub"
   ]
  },
  {
   "cell_type": "code",
   "execution_count": null,
   "id": "75af3aa5",
   "metadata": {},
   "outputs": [],
   "source": [
    "from pydub import AudioSegment\n",
    "from IPython.display import Audio\n",
    "from transformers import pipeline"
   ]
  },
  {
   "cell_type": "code",
   "execution_count": null,
   "id": "cf1d185e",
   "metadata": {},
   "outputs": [],
   "source": [
    "# Adjust audio format to wav\n",
    "audio_file = 'boete_C'\n",
    "sound = AudioSegment.from_file(audio_file+'.m4a', format='m4a')\n",
    "file_handle = sound.export(audio_file+'.wav', format='wav')"
   ]
  },
  {
   "cell_type": "code",
   "execution_count": null,
   "id": "14abb396",
   "metadata": {},
   "outputs": [],
   "source": [
    "# Listen to audio\n",
    "Audio(audio_file+'.wav')"
   ]
  },
  {
   "cell_type": "code",
   "execution_count": null,
   "id": "e7065381",
   "metadata": {},
   "outputs": [],
   "source": [
    "# Create speech recognition pipeline\n",
    "asr_pipeline = pipeline(\n",
    "    \"automatic-speech-recognition\",\n",
    "    model=\"openai/whisper-medium\",   # whisper-base, small, medium\n",
    ")"
   ]
  },
  {
   "cell_type": "code",
   "execution_count": null,
   "id": "cd22b588",
   "metadata": {},
   "outputs": [],
   "source": [
    "# Run pipeline\n",
    "asr_pipeline(\n",
    "    audio_file+'.wav',\n",
    "    generate_kwargs={\"max_new_tokens\": 256},\n",
    "    return_timestamps=False,\n",
    ")"
   ]
  }
 ],
 "metadata": {
  "kernelspec": {
   "display_name": ".venv",
   "language": "python",
   "name": "python3"
  },
  "language_info": {
   "codemirror_mode": {
    "name": "ipython",
    "version": 3
   },
   "file_extension": ".py",
   "mimetype": "text/x-python",
   "name": "python",
   "nbconvert_exporter": "python",
   "pygments_lexer": "ipython3",
   "version": "3.13.3"
  }
 },
 "nbformat": 4,
 "nbformat_minor": 5
}
