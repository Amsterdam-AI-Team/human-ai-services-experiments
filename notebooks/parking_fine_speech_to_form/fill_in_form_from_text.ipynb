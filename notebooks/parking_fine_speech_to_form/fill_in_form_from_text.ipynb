{
 "cells": [
  {
   "cell_type": "code",
   "execution_count": null,
   "metadata": {},
   "outputs": [],
   "source": [
    "import pandas as pd\n",
    "from openai import AzureOpenAI\n",
    "from datetime import date\n",
    "import my_secrets as sc"
   ]
  },
  {
   "cell_type": "code",
   "execution_count": null,
   "metadata": {},
   "outputs": [],
   "source": [
    "# Configuration   TODO move to config and secrets\n",
    "\n",
    "# OpenAI API variables\n",
    "AZURE_OPENAI_API_KEY = \"9ztHj1sVgWA0qLXL7KOM7URgYaMizodRHuWijPPGLO4J7Bi0cSExJQQJ99AKAC5RqLJXJ3w3AAABACOGKURw\" \n",
    "AZURE_OPENAI_API_VERSION = \"2024-02-15-preview\"\n",
    "AZURE_OPENAI_ENDPOINT = sc.AZURE_OPENAI_ENDPOINT"
   ]
  },
  {
   "cell_type": "code",
   "execution_count": null,
   "metadata": {},
   "outputs": [],
   "source": [
    "client = AzureOpenAI(\n",
    "    api_key=AZURE_OPENAI_API_KEY,\n",
    "    api_version=AZURE_OPENAI_API_VERSION,\n",
    "    azure_endpoint=AZURE_OPENAI_ENDPOINT,\n",
    ")\n",
    "\n",
    "# Function to prompt the LLM\n",
    "def prompt_gpt(prompt, context=None, system=None):\n",
    "\n",
    "    conversation = []\n",
    "\n",
    "    if system:\n",
    "        conversation.append({\"role\": \"system\", \"content\": system})\n",
    "\n",
    "    if context:\n",
    "        conversation.append({\"role\": \"system\", \"content\": context})\n",
    "\n",
    "    conversation.append({\"role\": \"user\", \"content\": prompt})\n",
    "\n",
    "    response = client.chat.completions.create(\n",
    "                    model=\"gpt-4o\",\n",
    "                    messages=conversation,\n",
    "                    temperature=0.3,\n",
    "                    # max_tokens=200,\n",
    "                    top_p=0.95,\n",
    "                    frequency_penalty=0,\n",
    "                    presence_penalty=0,\n",
    "                    stop=None,\n",
    "    )\n",
    "\n",
    "    finish_reason = response.choices[0].finish_reason\n",
    "    if finish_reason != \"stop\":\n",
    "        print(finish_reason)\n",
    "\n",
    "    return response.choices[0].message.content"
   ]
  },
  {
   "cell_type": "code",
   "execution_count": null,
   "metadata": {},
   "outputs": [],
   "source": [
    "#context = \" Ik wilde dus naar een vriendin van mij gaan met Kerst. Zij zegt tegen mij met al die meuk die ik mee moet, bak je beter gewoon even de auto. Ik heb van die bezoekers dingen, daar aan is niet zo sterk stuur. Dus ik geef haar mijn kenteken, maar ik ben moe weet je. Dus ik geef een z-door in plaats van niks. Die heeft wel allemaal kenteken zitten. Zij vond het keurig netjes in, maar ja, wat fout dus. Maar dat wist ik toen nog niet. Paar weken later, een dikke boete op de mat. Die wil ik natuurlijk niet betalen.\"\n",
    "#context = \"Het is echt ongelofelijk. Ik had in de keringen eindelijk mijn Fiat Panda tussen twee Teslas gewurmd. Ga ik nu de automaat om 6 euro per uur weg te pissen, zie ik zo'n scanauto langsrijden. Ik zei tegen mijn vrienden, het gaat niet goed hoor. Die ziet ons staan, maar we zijn nog met onze passie bezig. En inderdaad, onze plaat AB09CC stond er nog niet in. Want een paar weken later lag die bon op mijn mat.\"\n",
    "context = \" Hallo! Ik heb net een boete gekregen voor mijn parktier. Ik zie van een paar weken geleden. Maar er was daar in de Versterverte geen boer te bekennen. Dus het leek me nog ontrecht dat ik deze boete moet betalen. Ik stond daar op 14 mei om 16.37 met mijn mini clubman aan de vrijheid slaan. Dank u!\""
   ]
  },
  {
   "cell_type": "code",
   "execution_count": null,
   "metadata": {},
   "outputs": [],
   "source": [
    "system = 'You are a helpful AI assistent which helps to make sense of a transcribed text in Dutch. The conversation is about a parking fine' "
   ]
  },
  {
   "cell_type": "code",
   "execution_count": null,
   "metadata": {},
   "outputs": [],
   "source": [
    "# Get 'reden van bezwaar'\n",
    "analysis_prompt = 'Based on the text, can you describe in 1 sentence what the reason is that this person wants to not pay the fine'\n",
    "response = prompt_gpt(prompt=analysis_prompt, context=context, system=system)\n",
    "print(response)"
   ]
  },
  {
   "cell_type": "code",
   "execution_count": null,
   "metadata": {},
   "outputs": [],
   "source": [
    "# Get 'reden van bezwaar' category\n",
    "analysis_prompt = \"Based on the text, please deduct what the reason is the person doesn't want to pay the fine. You can pick from: ['no money on bank account', 'filled in wrong license plate number', 'didn't know they have to pay parking costs', 'parking costs are too high', 'only parked very shortly to offload something', 'did not yet pay when check was performed']. Please only return the selected category, exactly as described here.\"\n",
    "response = prompt_gpt(prompt=analysis_prompt, context=context, system=system)\n",
    "print(response)"
   ]
  },
  {
   "cell_type": "code",
   "execution_count": null,
   "metadata": {
    "tags": []
   },
   "outputs": [],
   "source": [
    "# Get information to fill in form\n",
    "analysis_prompt = \"Based on the text, fill in the following form as a python dictionary: dict = {'naam':'name of person that needs to pay', 'adres': 'address of person that needs to pay the fine', 'datum': 'date of parking', 'aanslagnummer parkeerbon': 'the number indicated on the fine', 'kenteken': 'license plate number', 'reden van bezwaar': 'summary of reason why they don't want to pay the parking fine']. If the information is not available from the text, fill in np.nan.  Only return the dict =  and the dictionary itself, no other text or code.\"\n",
    "response = prompt_gpt(prompt=analysis_prompt, context=context, system=system)\n",
    "print(response)"
   ]
  },
  {
   "cell_type": "code",
   "execution_count": null,
   "metadata": {
    "tags": []
   },
   "outputs": [],
   "source": [
    "# Get information to fill in form and question for missing information\n",
    "analysis_prompt = \"Based on the text, fill in memory the following form as a python dictionary: dict = {'naam':'name of person that needs to pay', 'adres': 'address of person that needs to pay the fine', 'datum': 'date of parking', 'aanslagnummer parkeerbon': 'the number indicated on the fine', 'kenteken': 'license plate number', 'reden van bezwaar': 'summary of reason why they don't want to pay the parking fine']. If the information is not available from the text, fill in np.nan.  Return the dictionary and a question (in Dutch) requesting the information for where you filled in np.nan \"\n",
    "response = prompt_gpt(prompt=analysis_prompt, context=context, system=system)\n",
    "print(response)"
   ]
  }
 ],
 "metadata": {
  "kernelspec": {
   "display_name": "venv_humai",
   "language": "python",
   "name": "venv_humai"
  },
  "language_info": {
   "codemirror_mode": {
    "name": "ipython",
    "version": 3
   },
   "file_extension": ".py",
   "mimetype": "text/x-python",
   "name": "python",
   "nbconvert_exporter": "python",
   "pygments_lexer": "ipython3",
   "version": "3.12.9"
  }
 },
 "nbformat": 4,
 "nbformat_minor": 4
}
